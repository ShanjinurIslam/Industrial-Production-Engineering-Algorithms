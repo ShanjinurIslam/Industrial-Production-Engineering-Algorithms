{
 "cells": [
  {
   "cell_type": "code",
   "execution_count": 216,
   "metadata": {},
   "outputs": [],
   "source": [
    "import numpy as np\n",
    "np.set_printoptions(formatter={'float_kind':'{:.3f}'.format})"
   ]
  },
  {
   "cell_type": "code",
   "execution_count": 217,
   "metadata": {},
   "outputs": [],
   "source": [
    "# problem setup\n",
    "left = np.array([3,4]).reshape(-1,1)\n",
    "up = np.array(np.arange(0,6))"
   ]
  },
  {
   "cell_type": "code",
   "execution_count": 218,
   "metadata": {},
   "outputs": [],
   "source": [
    "# problem formulation\n",
    "simplex = np.array([[2.0,3.0,2.0,1.0,0.0,0.0,1000.0],[1.0,1.0,2.0,0.0,1.0,0.0,800.0],[-7.0,-8.0,-10.0,0.0,0.0,1.0,0.0]])"
   ]
  },
  {
   "cell_type": "code",
   "execution_count": 219,
   "metadata": {},
   "outputs": [
    {
     "data": {
      "text/plain": [
       "array([[2.000, 3.000, 2.000, 1.000, 0.000, 0.000, 1000.000],\n",
       "       [1.000, 1.000, 2.000, 0.000, 1.000, 0.000, 800.000],\n",
       "       [-7.000, -8.000, -10.000, 0.000, 0.000, 1.000, 0.000]])"
      ]
     },
     "execution_count": 219,
     "metadata": {},
     "output_type": "execute_result"
    }
   ],
   "source": [
    "simplex"
   ]
  },
  {
   "cell_type": "code",
   "execution_count": 220,
   "metadata": {},
   "outputs": [
    {
     "name": "stdout",
     "output_type": "stream",
     "text": [
      "[[1.000 2.000 0.000 1.000 -1.000 0.000 200.000]\n",
      " [0.500 0.500 1.000 0.000 0.500 0.000 400.000]\n",
      " [-7.000 -8.000 -10.000 0.000 0.000 1.000 0.000]]\n",
      "[[1.000 2.000 0.000 1.000 -1.000 0.000 200.000]\n",
      " [0.500 0.500 1.000 0.000 0.500 0.000 400.000]\n",
      " [-2.000 -3.000 0.000 0.000 5.000 1.000 4000.000]]\n",
      "[[0.500 1.000 0.000 0.500 -0.500 0.000 100.000]\n",
      " [0.250 0.000 1.000 -0.250 0.750 0.000 350.000]\n",
      " [-2.000 -3.000 0.000 0.000 5.000 1.000 4000.000]]\n",
      "[[0.500 1.000 0.000 0.500 -0.500 0.000 100.000]\n",
      " [0.250 0.000 1.000 -0.250 0.750 0.000 350.000]\n",
      " [-0.500 0.000 0.000 1.500 3.500 1.000 4300.000]]\n",
      "[[1.000 2.000 0.000 1.000 -1.000 0.000 200.000]\n",
      " [0.000 -0.500 1.000 -0.500 1.000 0.000 300.000]\n",
      " [-0.500 0.000 0.000 1.500 3.500 1.000 4300.000]]\n",
      "[[1.000 2.000 0.000 1.000 -1.000 0.000 200.000]\n",
      " [0.000 -0.500 1.000 -0.500 1.000 0.000 300.000]\n",
      " [0.000 1.000 0.000 2.000 3.000 1.000 4400.000]]\n"
     ]
    }
   ],
   "source": [
    "while(True):\n",
    "    arr = simplex[-1][simplex[-1]<0]\n",
    "    \n",
    "    if len(arr) == 0 :\n",
    "        break \n",
    "    \n",
    "    col = np.argmin(simplex[-1])\n",
    "    row = np.argmin(simplex[:-1,-1]//simplex[:-1,2])\n",
    "    left[row] = col\n",
    "    \n",
    "    simplex[row] = simplex[row]/simplex[row,col]\n",
    "    pivot_col = simplex[:,col]\n",
    "    row_indexes = np.where(pivot_col!=simplex[row,col])[0]\n",
    "    for i in row_indexes:\n",
    "        factor = simplex[i,col]/simplex[row,col]\n",
    "        simplex[i] = simplex[i] - factor*simplex[row]\n",
    "        print(simplex)"
   ]
  },
  {
   "cell_type": "code",
   "execution_count": 221,
   "metadata": {},
   "outputs": [
    {
     "data": {
      "text/plain": [
       "array([0, 2])"
      ]
     },
     "execution_count": 221,
     "metadata": {},
     "output_type": "execute_result"
    }
   ],
   "source": [
    "left.ravel()"
   ]
  },
  {
   "cell_type": "code",
   "execution_count": 222,
   "metadata": {},
   "outputs": [
    {
     "data": {
      "text/plain": [
       "array([200.000, 300.000, 4400.000])"
      ]
     },
     "execution_count": 222,
     "metadata": {},
     "output_type": "execute_result"
    }
   ],
   "source": [
    "simplex[:,-1]"
   ]
  }
 ],
 "metadata": {
  "kernelspec": {
   "display_name": "Python 3",
   "language": "python",
   "name": "python3"
  },
  "language_info": {
   "codemirror_mode": {
    "name": "ipython",
    "version": 3
   },
   "file_extension": ".py",
   "mimetype": "text/x-python",
   "name": "python",
   "nbconvert_exporter": "python",
   "pygments_lexer": "ipython3",
   "version": "3.7.4"
  }
 },
 "nbformat": 4,
 "nbformat_minor": 2
}
